{
 "cells": [
  {
   "cell_type": "code",
   "execution_count": 46,
   "id": "de2a6ebb",
   "metadata": {},
   "outputs": [
    {
     "name": "stdout",
     "output_type": "stream",
     "text": [
      "Head is\n"
     ]
    }
   ],
   "source": [
    "# Implementation of Sinle Linked List\n",
    "class Node:\n",
    "    def __init__(self, data):\n",
    "        self.data = data\n",
    "        self.next = None\n",
    "        \n",
    "class SinglyLinkedList:\n",
    "    def __init__(self):\n",
    "        self.head = None\n",
    "        print(\"Head is\")\n",
    "        \n",
    "    def traverseList(self):\n",
    "        if self.head is None:\n",
    "            print(\"Linked List is empthy\")\n",
    "        else: \n",
    "            head = self.head\n",
    "            while head is not None:\n",
    "                print(head.data, end=\" \")\n",
    "                head = head.next\n",
    "            \n",
    "    def insertItem(self, item):\n",
    "        nd = Node(item)\n",
    "        nd.next = self.head\n",
    "        self.head = nd\n",
    "        \n",
    "        return nd\n",
    "    \n",
    "    def delete_first_node(self):\n",
    "        current = self.head\n",
    "        if self.head == None:\n",
    "            print(\"No data element to delete\")\n",
    "        elif current == self.head:\n",
    "            self.head = current.next\n",
    "            \n",
    "            \n",
    "sll = SinglyLinkedList()\n"
   ]
  },
  {
   "cell_type": "code",
   "execution_count": 47,
   "id": "19d88f7d",
   "metadata": {},
   "outputs": [
    {
     "name": "stdout",
     "output_type": "stream",
     "text": [
      "<__main__.Node object at 0x00000231C7DBEBD0>\n",
      "<__main__.Node object at 0x00000231C74943D0>\n",
      "<__main__.Node object at 0x00000231C7487690>\n"
     ]
    }
   ],
   "source": [
    "print(sll.insertItem(10))\n",
    "print(sll.insertItem(20))\n",
    "print(sll.insertItem(30))"
   ]
  },
  {
   "cell_type": "code",
   "execution_count": 48,
   "id": "5a2dc456",
   "metadata": {},
   "outputs": [
    {
     "name": "stdout",
     "output_type": "stream",
     "text": [
      "30 20 10 None\n"
     ]
    }
   ],
   "source": [
    "print(sll.traverseList())"
   ]
  },
  {
   "cell_type": "code",
   "execution_count": 49,
   "id": "f064d8ba",
   "metadata": {},
   "outputs": [
    {
     "name": "stdout",
     "output_type": "stream",
     "text": [
      "30 20 10 None\n"
     ]
    }
   ],
   "source": [
    "print(sll.traverseList())"
   ]
  },
  {
   "cell_type": "code",
   "execution_count": 50,
   "id": "dad93063",
   "metadata": {},
   "outputs": [
    {
     "name": "stdout",
     "output_type": "stream",
     "text": [
      "<__main__.Node object at 0x00000231C80044D0>\n"
     ]
    }
   ],
   "source": [
    "print(sll.insertItem(20))"
   ]
  },
  {
   "cell_type": "code",
   "execution_count": 51,
   "id": "f929b572",
   "metadata": {},
   "outputs": [
    {
     "name": "stdout",
     "output_type": "stream",
     "text": [
      "None\n"
     ]
    }
   ],
   "source": [
    "print(sll.delete_first_node())"
   ]
  },
  {
   "cell_type": "code",
   "execution_count": 55,
   "id": "c1e9a250",
   "metadata": {},
   "outputs": [
    {
     "name": "stdout",
     "output_type": "stream",
     "text": [
      "No data element to delete\n",
      "None\n"
     ]
    }
   ],
   "source": [
    "print(sll.delete_first_node())\n",
    "current = sll.head\n",
    "while current:\n",
    "    print(current.data)\n",
    "    current = current.next"
   ]
  },
  {
   "cell_type": "code",
   "execution_count": null,
   "id": "8bb31520",
   "metadata": {},
   "outputs": [],
   "source": []
  }
 ],
 "metadata": {
  "kernelspec": {
   "display_name": "Python 3 (ipykernel)",
   "language": "python",
   "name": "python3"
  },
  "language_info": {
   "codemirror_mode": {
    "name": "ipython",
    "version": 3
   },
   "file_extension": ".py",
   "mimetype": "text/x-python",
   "name": "python",
   "nbconvert_exporter": "python",
   "pygments_lexer": "ipython3",
   "version": "3.11.5"
  }
 },
 "nbformat": 4,
 "nbformat_minor": 5
}
